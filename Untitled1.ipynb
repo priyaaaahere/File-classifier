{
 "cells": [
  {
   "cell_type": "code",
   "execution_count": 4,
   "id": "4173e7bf",
   "metadata": {},
   "outputs": [],
   "source": [
    "import os\n",
    "\n",
    "directory= \"/Users/Priyadarshini  M/OneDrive/Desktop\"\n",
    "os.chdir(directory)\n",
    "contents = os.listdir()\n",
    "files=[]\n",
    "exts = set()\n",
    "for i in contents:\n",
    "  if os.path.isfile(i):\n",
    "    files.append(i)\n",
    "    exts.add(i.split(\".\")[-1])\n",
    "Docs=['pdf','ppt','pptx','docx','xls','xlsx']\n",
    "Audio=['mp3','wav','ogg']\n",
    "Videos=['mp4','mkv']\n",
    "Image=['jpg','jpeg','png','gif','webp']\n",
    "  #create 4 folders\n",
    "try:\n",
    "    os.mkdir('Docs')\n",
    "    os.mkdir('Audio')\n",
    "    os.mkdir('Videos')\n",
    "    os.mkdir('Photos')\n",
    "    os.mkdir('Misc')\n",
    "  #moving files to folder\n",
    "except :\n",
    "  print()    \n",
    "for i in files:\n",
    "      if i.split('.')[-1] in Docs:\n",
    "          cwd=os.getcwd()+\"\\\\\"+i\n",
    "          os.rename(cwd,os.getcwd()+\"\\\\\"+\"Docs\"+'\\\\' +i)\n",
    "      elif i.split('.')[-1] in Audio:\n",
    "          cwd=os.getcwd()+\"\\\\\"+i\n",
    "          os.rename(cwd,os.getcwd()+\"\\\\\"+\"Audio\"+'\\\\'+i)\n",
    "      elif i.split('.')[-1] in Videos:\n",
    "          cwd=os.getcwd()+\"\\\\\"+i\n",
    "          os.rename(cwd,os.getcwd()+\"\\\\\"+\"Videos\"+'\\\\'+i)\n",
    "      elif i.split('.')[-1] in Image:\n",
    "          cwd=os.getcwd()+\"\\\\\"+i\n",
    "          os.rename(cwd,os.getcwd()+\"\\\\\"+\"Photos\"+'\\\\'+i)\n",
    "      else:\n",
    "          cwd=os.getcwd()+\"\\\\\"+i\n",
    "          os.rename(cwd,os.getcwd()+\"\\\\\"+\"Misc\"+'\\\\'+i)"
   ]
  },
  {
   "cell_type": "code",
   "execution_count": 2,
   "id": "f8a135e8",
   "metadata": {},
   "outputs": [],
   "source": []
  },
  {
   "cell_type": "code",
   "execution_count": null,
   "id": "4748982a",
   "metadata": {},
   "outputs": [],
   "source": []
  }
 ],
 "metadata": {
  "kernelspec": {
   "display_name": "Python 3 (ipykernel)",
   "language": "python",
   "name": "python3"
  },
  "language_info": {
   "codemirror_mode": {
    "name": "ipython",
    "version": 3
   },
   "file_extension": ".py",
   "mimetype": "text/x-python",
   "name": "python",
   "nbconvert_exporter": "python",
   "pygments_lexer": "ipython3",
   "version": "3.9.12"
  }
 },
 "nbformat": 4,
 "nbformat_minor": 5
}
